{
 "cells": [
  {
   "cell_type": "markdown",
   "metadata": {},
   "source": [
    "# **Reddit Scrapper**"
   ]
  },
  {
   "cell_type": "markdown",
   "metadata": {},
   "source": [
    "Doesn't work as well on Google Colab. We recommend running this locally and then exporting the files."
   ]
  },
  {
   "cell_type": "code",
   "execution_count": null,
   "metadata": {},
   "outputs": [],
   "source": [
    "import os\n",
    "import subprocess\n",
    "\n",
    "\n",
    "SUBREDDITS = ['Anxiety','bipolar','depression','SuicideWatch'] \n",
    "DATADIR = os.getcwd() + \"/data/\"\n",
    "print(DATADIR)\n",
    "if \"data\" not in os.listdir():\n",
    "    os.makedirs(os.getcwd() + \"/data/\")\n",
    "assert \"src\" in os.listdir() "
   ]
  },
  {
   "cell_type": "code",
   "execution_count": null,
   "metadata": {},
   "outputs": [],
   "source": [
    "for subreddit in SUBREDDITS:\n",
    "    command = f\"python scraper.py --subreddit {subreddit}\"\n",
    "    print(command)\n",
    "    proc = subprocess.Popen(command, shell=True, stdout=subprocess.PIPE, stderr=subprocess.STDOUT)\n",
    "    while proc.poll() is None:\n",
    "        print(proc.stdout.readline()) #give output from your execution/your own message\n",
    "    self.commandResult = proc.wait() #catch return code\n",
    "    \n",
    "    if self.commandResult != 0:\n",
    "        print(f'Error code: {self.commandResult}')\n",
    "    else:\n",
    "        print('Data successfully crawled.\\n')    "
   ]
  }
 ],
 "metadata": {
  "colab": {
   "collapsed_sections": [],
   "name": "RedditCrawler_v2 REPLACE BY v3.ipynb",
   "provenance": []
  },
  "kernelspec": {
   "display_name": "Python 3",
   "language": "python",
   "name": "python3"
  },
  "language_info": {
   "codemirror_mode": {
    "name": "ipython",
    "version": 3
   },
   "file_extension": ".py",
   "mimetype": "text/x-python",
   "name": "python",
   "nbconvert_exporter": "python",
   "pygments_lexer": "ipython3",
   "version": "3.9.4"
  }
 },
 "nbformat": 4,
 "nbformat_minor": 1
}
